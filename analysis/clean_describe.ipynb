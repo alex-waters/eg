{
 "cells": [
  {
   "cell_type": "code",
   "execution_count": null,
   "metadata": {},
   "outputs": [],
   "source": [
    "import pandas as pd\n",
    "import seaborn\n",
    "import matplotlib.pyplot as plt"
   ]
  },
  {
   "cell_type": "code",
   "execution_count": null,
   "metadata": {},
   "outputs": [],
   "source": [
    "%matplotlib inline"
   ]
  },
  {
   "cell_type": "code",
   "execution_count": null,
   "metadata": {},
   "outputs": [],
   "source": [
    "sourcedata = pd.read_csv('egl_DS_test_data.csv')"
   ]
  },
  {
   "cell_type": "code",
   "execution_count": null,
   "metadata": {},
   "outputs": [],
   "source": [
    "sourcedata.describe()"
   ]
  },
  {
   "cell_type": "code",
   "execution_count": null,
   "metadata": {},
   "outputs": [],
   "source": [
    "sourcedata.info()"
   ]
  },
  {
   "cell_type": "code",
   "execution_count": null,
   "metadata": {},
   "outputs": [],
   "source": [
    "for c in sourcedata.columns:\n",
    "    print(c + ':', len(set(sourcedata[c].dropna())))"
   ]
  },
  {
   "cell_type": "code",
   "execution_count": null,
   "metadata": {},
   "outputs": [],
   "source": []
  },
  {
   "cell_type": "code",
   "execution_count": null,
   "metadata": {},
   "outputs": [],
   "source": [
    "sourcedata.head()"
   ]
  },
  {
   "cell_type": "code",
   "execution_count": null,
   "metadata": {},
   "outputs": [],
   "source": []
  },
  {
   "cell_type": "code",
   "execution_count": null,
   "metadata": {},
   "outputs": [],
   "source": [
    "# does each id_code have a single postcode and therefore be considered a single user\n",
    "\n",
    "dist_pcds = sourcedata.groupby('id_code')['postcode.1'].nunique().reset_index()\n",
    "dist_pcds.groupby('postcode.1').count().head()"
   ]
  },
  {
   "cell_type": "code",
   "execution_count": null,
   "metadata": {},
   "outputs": [],
   "source": [
    "# is there a good time series for a large number of users\n",
    "\n",
    "dist_dates = sourcedata.groupby('id_code')['date'].nunique().reset_index()\n",
    "date_users = dist_dates.groupby('date').count()"
   ]
  },
  {
   "cell_type": "code",
   "execution_count": null,
   "metadata": {},
   "outputs": [],
   "source": [
    "date_users.sum()"
   ]
  },
  {
   "cell_type": "code",
   "execution_count": null,
   "metadata": {},
   "outputs": [],
   "source": [
    "date_users[date_users.index > 10].sum()"
   ]
  },
  {
   "cell_type": "code",
   "execution_count": null,
   "metadata": {},
   "outputs": [],
   "source": []
  },
  {
   "cell_type": "code",
   "execution_count": null,
   "metadata": {},
   "outputs": [],
   "source": [
    "set(sourcedata['anxiety'])"
   ]
  },
  {
   "cell_type": "code",
   "execution_count": null,
   "metadata": {},
   "outputs": [],
   "source": [
    "set(sourcedata['sex'])"
   ]
  },
  {
   "cell_type": "code",
   "execution_count": null,
   "metadata": {},
   "outputs": [],
   "source": [
    "enum = sourcedata.replace(\n",
    "    {\n",
    "        '0 - not at all anxious': 0,\n",
    "        '10 - completely anxious': 10,\n",
    "        'Male': 0,\n",
    "        'M': 0,\n",
    "        'Female': 1,\n",
    "        'F': 1\n",
    "    }\n",
    ")\n",
    "typed = enum.astype(\n",
    "    {\n",
    "        'anxiety': int,\n",
    "        'sex': float,\n",
    "    }\n",
    ")\n",
    "typed['date'] = pd.to_datetime(typed['date'])"
   ]
  },
  {
   "cell_type": "code",
   "execution_count": null,
   "metadata": {},
   "outputs": [],
   "source": [
    "typed.info()"
   ]
  },
  {
   "cell_type": "code",
   "execution_count": null,
   "metadata": {},
   "outputs": [],
   "source": [
    "typed.hist()"
   ]
  },
  {
   "cell_type": "code",
   "execution_count": null,
   "metadata": {},
   "outputs": [],
   "source": [
    "typed.to_csv('egl_typed.csv')"
   ]
  },
  {
   "cell_type": "code",
   "execution_count": null,
   "metadata": {},
   "outputs": [],
   "source": []
  },
  {
   "cell_type": "code",
   "execution_count": null,
   "metadata": {},
   "outputs": [],
   "source": [
    "uk_ages = pd.read_csv('uk_ages.csv')"
   ]
  },
  {
   "cell_type": "code",
   "execution_count": null,
   "metadata": {},
   "outputs": [],
   "source": [
    "relevant_ages = uk_ages[uk_ages['age'].between(16, 89)]\n",
    "relevant_ages['pc'] = (relevant_ages['people'] / sum(relevant_ages['people']))*100"
   ]
  },
  {
   "cell_type": "code",
   "execution_count": null,
   "metadata": {},
   "outputs": [],
   "source": [
    "app_ages = typed.groupby('dateofbirth_year')['id_code'].nunique().reset_index()\n",
    "app_ages['pc'] = (app_ages['id_code'] / sum(app_ages['id_code']))*100"
   ]
  },
  {
   "cell_type": "code",
   "execution_count": null,
   "metadata": {},
   "outputs": [],
   "source": [
    "age_compare = relevant_ages.merge(\n",
    "    app_ages,\n",
    "    left_on='yearofbirth',\n",
    "    right_on='dateofbirth_year'\n",
    ")\n",
    "age_compare.info()"
   ]
  },
  {
   "cell_type": "code",
   "execution_count": null,
   "metadata": {},
   "outputs": [],
   "source": [
    "age_diffs = [\n",
    "    age_compare['age'], \n",
    "    age_compare['pc_x'], \n",
    "    age_compare['age'], \n",
    "    age_compare['pc_y']\n",
    "]\n",
    "fig, ax = plt.subplots(figsize=(8, 6))\n",
    "ax.plot(\n",
    "    *age_diffs,\n",
    "    '#3eb64e'\n",
    ")\n",
    "del(age_diffs[2])\n",
    "ax.fill_between(\n",
    "    *age_diffs,\n",
    "    where=age_diffs[1] <= age_diffs[-1],\n",
    "    facecolor='#3eb64e', alpha=0.4, interpolate=True\n",
    ")\n",
    "ax.fill_between(\n",
    "    *age_diffs, \n",
    "    where=age_diffs[1] >= age_diffs[-1], \n",
    "    facecolor='#1f77b4', alpha=0.4, interpolate=True\n",
    ")\n",
    "ax.set_xlabel('Age (approx)')\n",
    "ax.set_ylabel('% of Population')\n",
    "seaborn.despine()\n",
    "plt.savefig('users_pop.png')"
   ]
  },
  {
   "cell_type": "code",
   "execution_count": null,
   "metadata": {},
   "outputs": [],
   "source": [
    "typed.groupby('sex')['id_code'].nunique() / len(set(typed.dropna(subset=['sex'])['id_code']))"
   ]
  },
  {
   "cell_type": "code",
   "execution_count": null,
   "metadata": {},
   "outputs": [],
   "source": [
    "seaborn.distplot(typed['anxiety'].dropna())"
   ]
  },
  {
   "cell_type": "code",
   "execution_count": null,
   "metadata": {},
   "outputs": [],
   "source": []
  },
  {
   "cell_type": "code",
   "execution_count": null,
   "metadata": {},
   "outputs": [],
   "source": [
    "seaborn.heatmap(typed.corr())"
   ]
  },
  {
   "cell_type": "code",
   "execution_count": null,
   "metadata": {},
   "outputs": [],
   "source": []
  },
  {
   "cell_type": "code",
   "execution_count": null,
   "metadata": {},
   "outputs": [],
   "source": [
    "m_f = typed.groupby(\n",
    "    ['dateofbirth_year', 'sex'])['id_code'].nunique().reset_index(\n",
    ").pivot(index='dateofbirth_year', columns='sex', values='id_code')"
   ]
  },
  {
   "cell_type": "code",
   "execution_count": null,
   "metadata": {},
   "outputs": [],
   "source": [
    "m_f.reset_index().info()"
   ]
  },
  {
   "cell_type": "code",
   "execution_count": null,
   "metadata": {},
   "outputs": [],
   "source": [
    "m_f['prop_m'] = m_f[0.0] / (m_f[0.0] + m_f[1.0])\n",
    "m_f['prop_f'] = 1 - m_f['prop_m']"
   ]
  },
  {
   "cell_type": "code",
   "execution_count": null,
   "metadata": {},
   "outputs": [],
   "source": [
    "m_f.columns"
   ]
  },
  {
   "cell_type": "code",
   "execution_count": null,
   "metadata": {},
   "outputs": [],
   "source": [
    "m_f.head()"
   ]
  },
  {
   "cell_type": "code",
   "execution_count": null,
   "metadata": {},
   "outputs": [],
   "source": [
    "import plotly.graph_objects as go\n",
    "from plotly.offline import plot\n",
    "\n",
    "mf_fig = go.Figure(data=[\n",
    "    go.Bar(\n",
    "        name='Male', \n",
    "        x=m_f.index, y=m_f['prop_m'],\n",
    "        marker_color='#feffa3'\n",
    "    ),\n",
    "    go.Bar(\n",
    "        name='Female', \n",
    "        x=m_f.index, y=m_f['prop_f'],\n",
    "        marker_color='#a4a3ff'\n",
    "    ),\n",
    "    go.Scatter(\n",
    "        name='50:50',\n",
    "        x=m_f.index, y=[0.5 for x in m_f.index],\n",
    "        line={\n",
    "            'color': '#ff8b94',\n",
    "            'width': 3\n",
    "        }\n",
    "    )\n",
    "])\n",
    "mf_fig.update_layout(\n",
    "    barmode='stack',\n",
    "    xaxis={\n",
    "        'title': 'Year of Birth',\n",
    "        'tickfont_size': 14\n",
    "    },\n",
    "    yaxis={\n",
    "        'title': '% of Total',\n",
    "        'titlefont_size': 14,\n",
    "        'tickfont_size': 14,\n",
    "    },\n",
    ")\n",
    "\n",
    "plot(mf_fig, filename='male_female.html')"
   ]
  },
  {
   "cell_type": "code",
   "execution_count": null,
   "metadata": {},
   "outputs": [],
   "source": []
  },
  {
   "cell_type": "code",
   "execution_count": null,
   "metadata": {},
   "outputs": [],
   "source": []
  },
  {
   "cell_type": "code",
   "execution_count": null,
   "metadata": {},
   "outputs": [],
   "source": [
    "import plotly.graph_objects as go\n",
    "from plotly.offline import plot\n",
    "\n",
    "anx_fig = go.Figure(data=[\n",
    "    go.Bar(\n",
    "        name='Anxiety Scores', \n",
    "        x=anxiety_hist['anxiety'], y=anxiety_hist['id_code'],\n",
    "#         marker_color='#feffa3'\n",
    "    ),\n",
    "])\n",
    "anx_fig.update_layout(\n",
    "    xaxis={\n",
    "        'title': 'Anxiety',\n",
    "        'tickfont_size': 14\n",
    "    },\n",
    "    yaxis={\n",
    "        'title': 'Count of Users',\n",
    "        'titlefont_size': 14,\n",
    "        'tickfont_size': 14,\n",
    "    },\n",
    ")\n",
    "\n",
    "plot(anx_fig, filename='test.html')"
   ]
  },
  {
   "cell_type": "code",
   "execution_count": null,
   "metadata": {},
   "outputs": [],
   "source": []
  }
 ],
 "metadata": {
  "kernelspec": {
   "display_name": "Python 3",
   "language": "python",
   "name": "python3"
  },
  "language_info": {
   "codemirror_mode": {
    "name": "ipython",
    "version": 3
   },
   "file_extension": ".py",
   "mimetype": "text/x-python",
   "name": "python",
   "nbconvert_exporter": "python",
   "pygments_lexer": "ipython3",
   "version": "3.7.3"
  }
 },
 "nbformat": 4,
 "nbformat_minor": 2
}
