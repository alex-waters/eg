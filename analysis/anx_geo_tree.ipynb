{
 "cells": [
  {
   "cell_type": "code",
   "execution_count": null,
   "metadata": {},
   "outputs": [],
   "source": [
    "import pandas as pd\n",
    "import numpy\n",
    "import matplotlib.pyplot as plt\n",
    "from sklearn import tree\n",
    "from sklearn.model_selection import train_test_split\n",
    "from sklearn.preprocessing import StandardScaler"
   ]
  },
  {
   "cell_type": "code",
   "execution_count": null,
   "metadata": {},
   "outputs": [],
   "source": [
    "anx_data = pd.read_pickle('symp_anx_rec.p')"
   ]
  },
  {
   "cell_type": "code",
   "execution_count": null,
   "metadata": {},
   "outputs": [],
   "source": [
    "anx_data.info()"
   ]
  },
  {
   "cell_type": "code",
   "execution_count": null,
   "metadata": {},
   "outputs": [],
   "source": [
    "anx_data['prop_scaled'] = StandardScaler().fit_transform(\n",
    "    numpy.array(anx_data['prop']).reshape(-1, 1))"
   ]
  },
  {
   "cell_type": "code",
   "execution_count": null,
   "metadata": {},
   "outputs": [],
   "source": [
    "anx_target = anx_data.dropna()"
   ]
  },
  {
   "cell_type": "code",
   "execution_count": null,
   "metadata": {},
   "outputs": [],
   "source": [
    "anx_target['prop'].plot()"
   ]
  },
  {
   "cell_type": "code",
   "execution_count": null,
   "metadata": {},
   "outputs": [],
   "source": [
    "anx_target['prop_scaled'].plot()"
   ]
  },
  {
   "cell_type": "code",
   "execution_count": null,
   "metadata": {},
   "outputs": [],
   "source": []
  },
  {
   "cell_type": "code",
   "execution_count": null,
   "metadata": {},
   "outputs": [],
   "source": [
    "test_vars = ['covid_symptoms', 'dateofbirth_year']\n",
    "ind_vars = [x for x in anx_data if x not in [\n",
    "    'date', 'anxiety', 'loc_code', \n",
    "    'Unnamed: 0_x', 'id_code', 'Unnamed: 0_y', \n",
    "    'postcode', 'postcode.1', 'ccg', \n",
    "    'date_rank', 'prop', 'lat', 'long' , 0.0, 1.0,\n",
    "    'covid_stay_home'\n",
    "]]\n",
    "ind_vars"
   ]
  },
  {
   "cell_type": "code",
   "execution_count": null,
   "metadata": {},
   "outputs": [],
   "source": [
    "ind_train, ind_test, dep_train, dep_test = train_test_split(\n",
    "    anx_target[ind_vars], anx_target['anxiety'])"
   ]
  },
  {
   "cell_type": "code",
   "execution_count": null,
   "metadata": {},
   "outputs": [],
   "source": [
    "empty_tree = tree.DecisionTreeRegressor(\n",
    "    criterion='mse',\n",
    "    max_depth=4,\n",
    "    min_samples_split=100,\n",
    "    min_samples_leaf=100,\n",
    "    ccp_alpha=0.0\n",
    ")\n",
    "fitted_tree = empty_tree.fit(ind_train, dep_train)"
   ]
  },
  {
   "cell_type": "code",
   "execution_count": null,
   "metadata": {},
   "outputs": [],
   "source": [
    "fitted_tree.score(ind_test, dep_test)"
   ]
  },
  {
   "cell_type": "code",
   "execution_count": null,
   "metadata": {},
   "outputs": [],
   "source": [
    "ind_vars_labels = [*ind_vars[:-1], 'Local Infection']\n",
    "ind_vars_labels"
   ]
  },
  {
   "cell_type": "code",
   "execution_count": null,
   "metadata": {},
   "outputs": [],
   "source": [
    "plt.figure(figsize=(30,20))\n",
    "image = tree.plot_tree(\n",
    "    fitted_tree, \n",
    "    max_depth=4,\n",
    "    feature_names=ind_vars_labels,\n",
    "    filled=True,\n",
    "    rounded=True,\n",
    "    precision=2,\n",
    "    fontsize=15,\n",
    "    impurity=False,\n",
    "    proportion=False\n",
    ")\n",
    "plt.savefig('local_tree.png')"
   ]
  },
  {
   "cell_type": "code",
   "execution_count": null,
   "metadata": {},
   "outputs": [],
   "source": [
    "dates = anx_data.groupby(['date'])['id_code'].count()"
   ]
  },
  {
   "cell_type": "code",
   "execution_count": null,
   "metadata": {},
   "outputs": [],
   "source": [
    "dates[dates < 30]"
   ]
  }
 ],
 "metadata": {
  "kernelspec": {
   "display_name": "Python 3",
   "language": "python",
   "name": "python3"
  },
  "language_info": {
   "codemirror_mode": {
    "name": "ipython",
    "version": 3
   },
   "file_extension": ".py",
   "mimetype": "text/x-python",
   "name": "python",
   "nbconvert_exporter": "python",
   "pygments_lexer": "ipython3",
   "version": "3.7.3"
  }
 },
 "nbformat": 4,
 "nbformat_minor": 2
}
