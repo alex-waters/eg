{
 "cells": [
  {
   "cell_type": "code",
   "execution_count": 16,
   "metadata": {},
   "outputs": [],
   "source": [
    "import requests\n",
    "import pandas as pd\n",
    "\n",
    "ENDPOINT = 'https://api.postcodes.io/postcodes/'\n",
    "\n",
    "users = pd.read_csv('egl_typed.csv')\n",
    "postcodes = list(set(users['postcode.1']))\n",
    "\n",
    "lat = []\n",
    "long = []\n",
    "ccg = []\n",
    "loc_code = []\n",
    "\n",
    "# for pc in postcodes:\n",
    "#     send = requests.get(ENDPOINT+pc)\n",
    "#     receive = send.json()\n",
    "#     lat.append(receive['result']['latitude'])\n",
    "#     long.append(receive['result']['longitude'])\n",
    "#     ccg.append(receive['result']['ccg'])\n",
    "#     loc_code.append(receive['result']['codes']['admin_district'])"
   ]
  },
  {
   "cell_type": "code",
   "execution_count": 11,
   "metadata": {},
   "outputs": [
    {
     "data": {
      "text/plain": [
       "['NHS Bristol, North Somerset and South Gloucestershire',\n",
       " 'NHS Bradford Districts',\n",
       " 'NHS Wiltshire',\n",
       " 'Renfrewshire Community Health Partnership']"
      ]
     },
     "execution_count": 11,
     "metadata": {},
     "output_type": "execute_result"
    }
   ],
   "source": [
    "ccg"
   ]
  },
  {
   "cell_type": "code",
   "execution_count": 12,
   "metadata": {},
   "outputs": [
    {
     "data": {
      "text/plain": [
       "['BS484PE', 'BD131FA', 'SN159SL', 'PA2 6NJ']"
      ]
     },
     "execution_count": 12,
     "metadata": {},
     "output_type": "execute_result"
    }
   ],
   "source": [
    "postcodes"
   ]
  },
  {
   "cell_type": "code",
   "execution_count": 15,
   "metadata": {},
   "outputs": [
    {
     "data": {
      "text/plain": [
       "[51.426623, 53.765039, 51.460931, 55.834894]"
      ]
     },
     "execution_count": 15,
     "metadata": {},
     "output_type": "execute_result"
    }
   ],
   "source": [
    "lat"
   ]
  },
  {
   "cell_type": "code",
   "execution_count": null,
   "metadata": {},
   "outputs": [],
   "source": [
    "len(postcodes)"
   ]
  },
  {
   "cell_type": "code",
   "execution_count": null,
   "metadata": {},
   "outputs": [],
   "source": []
  }
 ],
 "metadata": {
  "kernelspec": {
   "display_name": "Python 3",
   "language": "python",
   "name": "python3"
  },
  "language_info": {
   "codemirror_mode": {
    "name": "ipython",
    "version": 3
   },
   "file_extension": ".py",
   "mimetype": "text/x-python",
   "name": "python",
   "nbconvert_exporter": "python",
   "pygments_lexer": "ipython3",
   "version": "3.7.3"
  }
 },
 "nbformat": 4,
 "nbformat_minor": 2
}
