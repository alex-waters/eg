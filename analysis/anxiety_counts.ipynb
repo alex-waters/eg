{
 "cells": [
  {
   "cell_type": "code",
   "execution_count": null,
   "metadata": {},
   "outputs": [],
   "source": [
    "import pandas as pd\n",
    "\n",
    "sourcedata = pd.read_csv('egl_DS_test_data.csv')\n",
    "sourcedata = sourcedata.replace(\n",
    "    {\n",
    "        '0 - not at all anxious': 0,\n",
    "        '10 - completely anxious': 10,\n",
    "    }\n",
    ")\n",
    "sourcedata['date'] = pd.to_datetime(sourcedata['date'])\n",
    "sourcedata['date_rank'] = sourcedata.groupby('id_code')['date'].rank(ascending=False)\n",
    "recent_obs = sourcedata[sourcedata['date_rank'] == 1]\n",
    "anxiety_hist = recent_obs.groupby('anxiety')['id_code'].nunique().reset_index()\n",
    "anxiety_hist"
   ]
  },
  {
   "cell_type": "code",
   "execution_count": null,
   "metadata": {},
   "outputs": [],
   "source": [
    "anxiety_hist.sum()"
   ]
  }
 ],
 "metadata": {
  "kernelspec": {
   "display_name": "Python 3",
   "language": "python",
   "name": "python3"
  },
  "language_info": {
   "codemirror_mode": {
    "name": "ipython",
    "version": 3
   },
   "file_extension": ".py",
   "mimetype": "text/x-python",
   "name": "python",
   "nbconvert_exporter": "python",
   "pygments_lexer": "ipython3",
   "version": "3.7.3"
  }
 },
 "nbformat": 4,
 "nbformat_minor": 2
}
