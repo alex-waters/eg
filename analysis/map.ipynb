{
 "cells": [
  {
   "cell_type": "code",
   "execution_count": null,
   "metadata": {},
   "outputs": [],
   "source": [
    "import pandas as pd\n",
    "import seaborn\n",
    "import matplotlib.pyplot as plt"
   ]
  },
  {
   "cell_type": "code",
   "execution_count": null,
   "metadata": {},
   "outputs": [],
   "source": [
    "geo_data = pd.read_csv('geo_data_1.csv')"
   ]
  },
  {
   "cell_type": "code",
   "execution_count": null,
   "metadata": {},
   "outputs": [],
   "source": [
    "geo_data.info()"
   ]
  },
  {
   "cell_type": "code",
   "execution_count": null,
   "metadata": {},
   "outputs": [],
   "source": [
    "users = pd.read_csv('egl_typed.csv')\n",
    "users.info()"
   ]
  },
  {
   "cell_type": "code",
   "execution_count": null,
   "metadata": {},
   "outputs": [],
   "source": [
    "ons_pop = pd.read_csv('area_populations.csv')\n",
    "ons_pop.info()"
   ]
  },
  {
   "cell_type": "code",
   "execution_count": null,
   "metadata": {},
   "outputs": [],
   "source": [
    "users_geo = users.merge(\n",
    "    geo_data,\n",
    "    left_on='postcode.1',\n",
    "    right_on='postcode',\n",
    "    how='right'\n",
    ")"
   ]
  },
  {
   "cell_type": "code",
   "execution_count": null,
   "metadata": {},
   "outputs": [],
   "source": [
    "user_loc_counts = users_geo.groupby('loc_code')['id_code'].nunique().reset_index()"
   ]
  },
  {
   "cell_type": "code",
   "execution_count": null,
   "metadata": {},
   "outputs": [],
   "source": [
    "user_pop_compare = user_loc_counts.merge(\n",
    "    ons_pop,\n",
    "    left_on='loc_code',\n",
    "    right_on='Code',\n",
    "    how='outer'\n",
    ")"
   ]
  },
  {
   "cell_type": "code",
   "execution_count": null,
   "metadata": {},
   "outputs": [],
   "source": [
    "user_pop_compare['prop'] = user_pop_compare['id_code'] / user_pop_compare['persons']"
   ]
  },
  {
   "cell_type": "code",
   "execution_count": null,
   "metadata": {},
   "outputs": [],
   "source": [
    "user_pop_compare.info()"
   ]
  },
  {
   "cell_type": "code",
   "execution_count": null,
   "metadata": {},
   "outputs": [],
   "source": []
  },
  {
   "cell_type": "code",
   "execution_count": null,
   "metadata": {},
   "outputs": [],
   "source": [
    "plt.subplots(figsize=(8, 6))\n",
    "seaborn.violinplot(\n",
    "    user_pop_compare['prop'].rename('Proportion of UK Population'),\n",
    "    color='grey',\n",
    "    orient='v'\n",
    ")\n",
    "seaborn.despine()\n",
    "plt.savefig('market_share_violin.png')"
   ]
  },
  {
   "cell_type": "code",
   "execution_count": null,
   "metadata": {},
   "outputs": [],
   "source": []
  },
  {
   "cell_type": "code",
   "execution_count": null,
   "metadata": {},
   "outputs": [],
   "source": [
    "anxiety_geo = users_geo.groupby('loc_code')['anxiety'].median().reset_index()"
   ]
  },
  {
   "cell_type": "code",
   "execution_count": null,
   "metadata": {},
   "outputs": [],
   "source": [
    "anxiety_geo.info()"
   ]
  },
  {
   "cell_type": "code",
   "execution_count": null,
   "metadata": {},
   "outputs": [],
   "source": [
    "import folium\n",
    "import json\n",
    "\n",
    "with open('topo_lad.json', 'r') as file:\n",
    "    boundaries_file = file.read()\n",
    "\n",
    "boundaries = json.loads(boundaries_file)\n",
    "\n",
    "values = pd.DataFrame({\n",
    "    'area': ['E06000001'],\n",
    "    'value': [234]\n",
    "})\n",
    "\n",
    "\n",
    "basemap = folium.Map(\n",
    "#     tiles='CartoDB dark_matter',\n",
    "    location=[54, -2], \n",
    "    zoom_start=6\n",
    ")\n",
    "\n",
    "folium.Choropleth(\n",
    "    geo_data=boundaries,\n",
    "    name='choropleth',\n",
    "    topojson='objects.lad',\n",
    "    data=anxiety_geo,\n",
    "    columns=['loc_code', 'anxiety'],\n",
    "    key_on='feature.id',\n",
    "    fill_color='BuPu',\n",
    "    fill_opacity=0.7,\n",
    "    line_opacity=1,\n",
    "    smooth_factor=2\n",
    ").add_to(basemap)\n",
    "\n",
    "folium.LayerControl().add_to(basemap)\n",
    "\n",
    "basemap.save('anx_map.html')"
   ]
  },
  {
   "cell_type": "code",
   "execution_count": null,
   "metadata": {},
   "outputs": [],
   "source": []
  },
  {
   "cell_type": "code",
   "execution_count": null,
   "metadata": {},
   "outputs": [],
   "source": [
    "symptomatic_loc = users_geo.groupby(\n",
    "    ['loc_code', 'covid_symptoms'])['id_code'].nunique().reset_index(\n",
    ").pivot(index='loc_code', columns='covid_symptoms', values='id_code')"
   ]
  },
  {
   "cell_type": "code",
   "execution_count": null,
   "metadata": {},
   "outputs": [],
   "source": [
    "symptomatic_loc['prop'] = symptomatic_loc[1] / (symptomatic_loc[0] + symtomatic_loc[1])"
   ]
  },
  {
   "cell_type": "code",
   "execution_count": null,
   "metadata": {},
   "outputs": [],
   "source": [
    "symptomatic_anx = symptomatic_loc.merge(\n",
    "    users_geo,\n",
    "    on='loc_code'\n",
    ")"
   ]
  },
  {
   "cell_type": "code",
   "execution_count": null,
   "metadata": {},
   "outputs": [],
   "source": [
    "symptomatic_anx['date'] = pd.to_datetime(symptomatic_anx['date'])\n",
    "symptomatic_anx.info()"
   ]
  },
  {
   "cell_type": "code",
   "execution_count": null,
   "metadata": {},
   "outputs": [],
   "source": [
    "symptomatic_anx['date_rank'] = symptomatic_anx.groupby('id_code')['date'].rank(ascending=False)"
   ]
  },
  {
   "cell_type": "code",
   "execution_count": null,
   "metadata": {},
   "outputs": [],
   "source": [
    "symptomatic_anx_rec = symptomatic_anx[symptomatic_anx['date_rank'] == 1]\n",
    "symptomatic_anx_rec.shape"
   ]
  },
  {
   "cell_type": "code",
   "execution_count": null,
   "metadata": {},
   "outputs": [],
   "source": [
    "seaborn.lmplot(\n",
    "    x='prop',\n",
    "    y='anxiety',\n",
    "    data=symptomatic_anx_rec\n",
    ")"
   ]
  },
  {
   "cell_type": "code",
   "execution_count": null,
   "metadata": {},
   "outputs": [],
   "source": [
    "symptomatic_anx_rec.info()"
   ]
  },
  {
   "cell_type": "code",
   "execution_count": null,
   "metadata": {},
   "outputs": [],
   "source": [
    "symptomatic_anx_rec.sample()"
   ]
  },
  {
   "cell_type": "code",
   "execution_count": null,
   "metadata": {},
   "outputs": [],
   "source": [
    "symptomatic_anx_rec.to_pickle('symp_anx_rec.p')"
   ]
  },
  {
   "cell_type": "code",
   "execution_count": null,
   "metadata": {},
   "outputs": [],
   "source": []
  }
 ],
 "metadata": {
  "kernelspec": {
   "display_name": "Python 3",
   "language": "python",
   "name": "python3"
  },
  "language_info": {
   "codemirror_mode": {
    "name": "ipython",
    "version": 3
   },
   "file_extension": ".py",
   "mimetype": "text/x-python",
   "name": "python",
   "nbconvert_exporter": "python",
   "pygments_lexer": "ipython3",
   "version": "3.7.3"
  }
 },
 "nbformat": 4,
 "nbformat_minor": 2
}
